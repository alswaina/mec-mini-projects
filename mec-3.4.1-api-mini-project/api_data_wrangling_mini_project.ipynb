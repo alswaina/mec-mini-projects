{
 "cells": [
  {
   "cell_type": "markdown",
   "metadata": {},
   "source": [
    "This exercise will require you to pull some data from https://data.nasdaq.com/ (formerly Quandl API)."
   ]
  },
  {
   "cell_type": "markdown",
   "metadata": {},
   "source": [
    "As a first step, you will need to register a free account on the https://data.nasdaq.com/ website."
   ]
  },
  {
   "cell_type": "markdown",
   "metadata": {},
   "source": [
    "After you register, you will be provided with a unique API key, that you should store:\n",
    "\n",
    "*Note*: Use a `.env` file and put your key in there and `python-dotenv` to access it in this notebook. \n",
    "\n",
    "The code below uses a key that was used when generating this project but has since been deleted. Never submit your keys to source control. There is a `.env-example` file in this repository to illusrtate what you need. Copy that to a file called `.env` and use your own api key in that `.env` file. Make sure you also have a `.gitignore` file with a line for `.env` added to it. \n",
    "\n",
    "The standard Python gitignore is [here](https://github.com/github/gitignore/blob/master/Python.gitignore) you can just copy that. "
   ]
  },
  {
   "cell_type": "code",
   "execution_count": 3,
   "metadata": {},
   "outputs": [
    {
     "name": "stdout",
     "output_type": "stream",
     "text": [
      "Collecting python-dotenv\n",
      "  Downloading python_dotenv-0.20.0-py3-none-any.whl (17 kB)\n",
      "Installing collected packages: python-dotenv\n",
      "Successfully installed python-dotenv-0.20.0\n"
     ]
    }
   ],
   "source": [
    "!pip install python-dotenv"
   ]
  },
  {
   "cell_type": "code",
   "execution_count": 163,
   "metadata": {
    "tags": []
   },
   "outputs": [],
   "source": [
    "# get api key from your .env file\n",
    "import os\n",
    "from dotenv import load_dotenv  # if missing this module, simply run `pip install python-dotenv`\n",
    "\n",
    "load_dotenv()\n",
    "API_KEY = os.getenv('NASDAQ_API_KEY')\n",
    "\n",
    "print(API_KEY)"
   ]
  },
  {
   "cell_type": "markdown",
   "metadata": {},
   "source": [
    "Nasdaq Data has a large number of data sources, but, unfortunately, most of them require a Premium subscription. Still, there are also a good number of free datasets."
   ]
  },
  {
   "cell_type": "markdown",
   "metadata": {},
   "source": [
    "For this mini project, we will focus on equities data from the Frankfurt Stock Exhange (FSE), which is available for free. We'll try and analyze the stock prices of a company called Carl Zeiss Meditec, which manufactures tools for eye examinations, as well as medical lasers for laser eye surgery: https://www.zeiss.com/meditec/int/home.html. The company is listed under the stock ticker AFX_X."
   ]
  },
  {
   "cell_type": "markdown",
   "metadata": {},
   "source": [
    "You can find the detailed Nasdaq Data API instructions here: https://docs.data.nasdaq.com/docs/in-depth-usage"
   ]
  },
  {
   "cell_type": "markdown",
   "metadata": {},
   "source": [
    "While there is a dedicated Python package for connecting to the Nasdaq API, we would prefer that you use the *requests* package, which can be easily downloaded using *pip* or *conda*. You can find the documentation for the package here: http://docs.python-requests.org/en/master/ "
   ]
  },
  {
   "cell_type": "markdown",
   "metadata": {},
   "source": [
    "Finally, apart from the *requests* package, you are encouraged to not use any third party Python packages, such as *pandas*, and instead focus on what's available in the Python Standard Library (the *collections* module might come in handy: https://pymotw.com/3/collections/).\n",
    "Also, since you won't have access to DataFrames, you are encouraged to us Python's native data structures - preferably dictionaries, though some questions can also be answered using lists.\n",
    "You can read more on these data structures here: https://docs.python.org/3/tutorial/datastructures.html"
   ]
  },
  {
   "cell_type": "markdown",
   "metadata": {},
   "source": [
    "Keep in mind that the JSON responses you will be getting from the API map almost one-to-one to Python's dictionaries. Unfortunately, they can be very nested, so make sure you read up on indexing dictionaries in the documentation provided above."
   ]
  },
  {
   "cell_type": "code",
   "execution_count": 154,
   "metadata": {},
   "outputs": [],
   "source": [
    "# First, import the relevant modules\n",
    "import collections\n",
    "import requests\n",
    "import json"
   ]
  },
  {
   "cell_type": "markdown",
   "metadata": {},
   "source": [
    "Note: API's can change a bit with each version, for this exercise it is reccomended to use the nasdaq api at `https://data.nasdaq.com/api/v3/`. This is the same api as what used to be quandl so `https://www.quandl.com/api/v3/` should work too.\n",
    "\n",
    "Hint: We are looking for the `AFX_X` data on the `datasets/FSE/` dataset."
   ]
  },
  {
   "cell_type": "code",
   "execution_count": 155,
   "metadata": {},
   "outputs": [],
   "source": [
    "# Now, call the Nasdaq API and pull out a small sample of the data (only one day) to get a glimpse\n",
    "# into the JSON structure that will be returned\n",
    "\n",
    "database_code = 'FSE'\n",
    "dataset_code = 'AFX_X'\n",
    "param = {\n",
    "    'start_date': '2000-06-07', \n",
    "    'end_date': '2000-06-07'\n",
    "}\n",
    "\n",
    "url = f\"https://data.nasdaq.com/api/v3/datasets/{database_code}/{dataset_code}/data.json?api_key={API_KEY}\"\n",
    "r = requests.get(url, params=param)\n",
    "if r.ok:\n",
    "    data = json.loads(r.content)\n",
    "else:\n",
    "    print(r.raise_for_status())"
   ]
  },
  {
   "cell_type": "code",
   "execution_count": 156,
   "metadata": {
    "collapsed": true,
    "jupyter": {
     "outputs_hidden": true
    },
    "tags": []
   },
   "outputs": [
    {
     "data": {
      "text/plain": [
       "{'dataset_data': {'limit': None,\n",
       "  'transform': None,\n",
       "  'column_index': None,\n",
       "  'column_names': ['Date',\n",
       "   'Open',\n",
       "   'High',\n",
       "   'Low',\n",
       "   'Close',\n",
       "   'Change',\n",
       "   'Traded Volume',\n",
       "   'Turnover',\n",
       "   'Last Price of the Day',\n",
       "   'Daily Traded Units',\n",
       "   'Daily Turnover'],\n",
       "  'start_date': '2000-06-07',\n",
       "  'end_date': '2000-06-07',\n",
       "  'frequency': 'daily',\n",
       "  'data': [['2000-06-07',\n",
       "    None,\n",
       "    None,\n",
       "    None,\n",
       "    38.0,\n",
       "    None,\n",
       "    0.0,\n",
       "    None,\n",
       "    None,\n",
       "    None,\n",
       "    0.0]],\n",
       "  'collapse': None,\n",
       "  'order': None}}"
      ]
     },
     "execution_count": 156,
     "metadata": {},
     "output_type": "execute_result"
    }
   ],
   "source": [
    "# Inspect the JSON structure of the object you created, and take note of how nested it is,\n",
    "# as well as the overall structure\n",
    "data"
   ]
  },
  {
   "cell_type": "markdown",
   "metadata": {},
   "source": [
    "These are your tasks for this mini project:\n",
    "\n",
    "1. Collect data from the Franfurt Stock Exchange, for the ticker AFX_X, for the whole year 2017 (keep in mind that the date format is YYYY-MM-DD).\n",
    "2. Convert the returned JSON object into a Python dictionary.\n",
    "3. Calculate what the highest and lowest opening prices were for the stock in this period.\n",
    "4. What was the largest change in any one day (based on High and Low price)?\n",
    "5. What was the largest change between any two days (based on Closing Price)?\n",
    "6. What was the average daily trading volume during this year?\n",
    "7. (Optional) What was the median trading volume during this year. (Note: you may need to implement your own function for calculating the median.)"
   ]
  },
  {
   "cell_type": "code",
   "execution_count": 157,
   "metadata": {},
   "outputs": [],
   "source": [
    "# 1. Collect data from the Franfurt Stock Exchange, for the ticker AFX_X, for the whole year 2017 (keep in mind that the date format is YYYY-MM-DD).\n",
    "# 2. Convert the returned JSON object into a Python dictionary.\n",
    "database_code = 'FSE'\n",
    "dataset_code = 'AFX_X'\n",
    "param = {\n",
    "    'start_date': '2017-01-01', \n",
    "    'end_date': '2017-12-31'\n",
    "}\n",
    "\n",
    "url = f\"https://data.nasdaq.com/api/v3/datasets/{database_code}/{dataset_code}/data.json?api_key={API_KEY}\"\n",
    "r = requests.get(url, params=param)\n",
    "\n",
    "if r.ok:\n",
    "    data_afxx_2017 = json.loads(r.content)\n",
    "else:\n",
    "    print(r.raise_for_status())"
   ]
  },
  {
   "cell_type": "code",
   "execution_count": 82,
   "metadata": {
    "collapsed": true,
    "jupyter": {
     "outputs_hidden": true
    },
    "tags": []
   },
   "outputs": [
    {
     "data": {
      "text/plain": [
       "{'dataset_data': {'limit': None,\n",
       "  'transform': None,\n",
       "  'column_index': None,\n",
       "  'column_names': ['Date',\n",
       "   'Open',\n",
       "   'High',\n",
       "   'Low',\n",
       "   'Close',\n",
       "   'Change',\n",
       "   'Traded Volume',\n",
       "   'Turnover',\n",
       "   'Last Price of the Day',\n",
       "   'Daily Traded Units',\n",
       "   'Daily Turnover'],\n",
       "  'start_date': '2017-05-01',\n",
       "  'end_date': '2017-05-01',\n",
       "  'frequency': 'daily',\n",
       "  'data': [['2017-05-01',\n",
       "    None,\n",
       "    42.245,\n",
       "    41.655,\n",
       "    41.72,\n",
       "    -0.44,\n",
       "    86348.0,\n",
       "    3606589.0,\n",
       "    None,\n",
       "    None,\n",
       "    None]],\n",
       "  'collapse': None,\n",
       "  'order': None}}"
      ]
     },
     "execution_count": 82,
     "metadata": {},
     "output_type": "execute_result"
    }
   ],
   "source": [
    "data_afxx_2017"
   ]
  },
  {
   "cell_type": "code",
   "execution_count": 158,
   "metadata": {},
   "outputs": [
    {
     "name": "stdout",
     "output_type": "stream",
     "text": [
      "highest: 53.11, lowest: 34.0\n"
     ]
    }
   ],
   "source": [
    "# 3. Calculate what the highest and lowest opening prices were for the stock in this period.\n",
    "\n",
    "#index of Open\n",
    "open_ndx = 1\n",
    "\n",
    "# init values\n",
    "highest = float('-inf')\n",
    "lowest = float('inf')\n",
    "\n",
    "# get data\n",
    "data = data_afxx_2017['dataset_data'].get('data')\n",
    "\n",
    "# extract max, min opening prices\n",
    "for dataum in data:\n",
    "    if dataum[open_ndx] != None:\n",
    "        if highest < dataum[open_ndx]:\n",
    "            highest = dataum[open_ndx]\n",
    "        if lowest > dataum[open_ndx]:\n",
    "            lowest = dataum[open_ndx]\n",
    "    \"\"\"\n",
    "    # highest and lowest prices in general\n",
    "    if highest < dataum[high_ndx]:\n",
    "        highest = dataum[high_ndx]\n",
    "    if lowest > dataum[low_ndx]:\n",
    "        lowest = dataum[low_ndx]\n",
    "    \"\"\"\n",
    "# in case all data in Open are None then raise error\n",
    "if highest == float('-inf') or lowest == float('inf'):\n",
    "    raise Exception(\"No data found\")\n",
    "\n",
    "# result\n",
    "print(f\"highest: {highest}, lowest: {lowest}\")"
   ]
  },
  {
   "cell_type": "code",
   "execution_count": 159,
   "metadata": {},
   "outputs": [
    {
     "name": "stdout",
     "output_type": "stream",
     "text": [
      "largest_change: 2.8100000000000023\n"
     ]
    }
   ],
   "source": [
    "# 4. What was the largest change in any one day (based on High and Low price)?\n",
    "\n",
    "#indexes of High and Low\n",
    "high_ndx = 2\n",
    "low_ndx = 3\n",
    "\n",
    "largest_change = float('-inf')\n",
    "\n",
    "# get data\n",
    "data = data_afxx_2017['dataset_data'].get('data')\n",
    "\n",
    "for dataum in data:\n",
    "    if dataum[high_ndx] != None and dataum[low_ndx] != None:\n",
    "        if largest_change < dataum[high_ndx] - dataum[low_ndx]:\n",
    "            largest_change = dataum[high_ndx] - dataum[low_ndx]\n",
    "\n",
    "# in case all data in Open are None then raise error\n",
    "if largest_change == float('-inf'):\n",
    "    raise Exception(\"No data found\")\n",
    "\n",
    "# result\n",
    "print(f\"largest_change: {largest_change}\")"
   ]
  },
  {
   "cell_type": "code",
   "execution_count": 160,
   "metadata": {},
   "outputs": [
    {
     "name": "stdout",
     "output_type": "stream",
     "text": [
      "largest_change is between day:2017-12-13(53.09) and day:2017-01-23(34.06) where the change is 19.03\n"
     ]
    }
   ],
   "source": [
    "# 5. What was the largest change between any two days (based on Closing Price)?\n",
    "\n",
    "# any two days means any two random days. \n",
    "# require to have at least two days with out missing readings. two solutions: \n",
    "# (1) we calculate day 0 with all following days, then day 1 with all following days, etc. \n",
    "# (2) we calculate the highest and lowest closing and get the change (faster). \n",
    "# note: solution will be different if the question said \"any two consecutive days\"\n",
    "\n",
    "#indexes of Close\n",
    "close_ndx = 4\n",
    "\n",
    "largest_change = float('-inf')\n",
    "\n",
    "# get data\n",
    "data = data_afxx_2017['dataset_data'].get('data')\n",
    "\n",
    "\n",
    "\"\"\"\n",
    "# 1st attempt\n",
    "if len(data) > 2:\n",
    "    for selected_day in range(len(data)):\n",
    "        day_1_closing = data[selected_day][close_ndx]\n",
    "        day_1_date = data[selected_day][0]\n",
    "\n",
    "        for dataum in data[selected_day+1:]:\n",
    "            if dataum[close_ndx] != None:\n",
    "                day_2_closing = dataum[close_ndx]\n",
    "\n",
    "                if largest_change < day_1_closing - day_2_closing:\n",
    "                    largest_change = day_1_closing - day_2_closing\n",
    "                    day_2_date = dataum[0]\n",
    "else:\n",
    "    print(f\"total data:{len(data)} is not enough to calculate the change\")\n",
    "    \n",
    "\"\"\"\n",
    "\n",
    "# 2nd attempt\n",
    "\n",
    "highest_closing = float('-inf')\n",
    "lowest_closing = float('inf')\n",
    "\n",
    "if len(data) > 1:\n",
    "    for dataum in data:\n",
    "        \n",
    "        if highest_closing < dataum[close_ndx]:\n",
    "            highest_closing = dataum[close_ndx]\n",
    "            day_1_date = dataum[0]\n",
    "            \n",
    "        if lowest_closing > dataum[close_ndx]:\n",
    "            lowest_closing = dataum[close_ndx]\n",
    "            day_2_date = dataum[0]\n",
    "    \n",
    "    largest_change = highest_closing - lowest_closing\n",
    "    \n",
    "# in case all data in Open are None then raise error\n",
    "if largest_change == float('-inf'): \n",
    "    print(\"No data found\")\n",
    "else:\n",
    "    # result\n",
    "    print(f\"largest_change is between day:{day_1_date}({highest_closing}) and day:{day_2_date}({lowest_closing}) where the change is {largest_change}\")"
   ]
  },
  {
   "cell_type": "code",
   "execution_count": 161,
   "metadata": {},
   "outputs": [
    {
     "name": "stdout",
     "output_type": "stream",
     "text": [
      "average daily trading volume during 2017 for 255 days is 89124.33725490196\n"
     ]
    }
   ],
   "source": [
    "# 6. What was the average daily trading volume during this year?\n",
    "\n",
    "#indexes of Close\n",
    "traded_vol_ndx = 6\n",
    "days, total = 0, 0\n",
    "\n",
    "# get data\n",
    "data = data_afxx_2017['dataset_data'].get('data')\n",
    "\n",
    "if len(data) > 0:\n",
    "    for dataum in data:\n",
    "        # will exclude the day when data is missing\n",
    "        if dataum[traded_vol_ndx] != None:\n",
    "            days += 1\n",
    "            total += dataum[traded_vol_ndx]\n",
    "    avg = total/days\n",
    "    print(f\"average daily trading volume during 2017 for {days} days is {avg}\")\n",
    "else:\n",
    "    print(\"No data found\")\n",
    "    avg = 0"
   ]
  },
  {
   "cell_type": "code",
   "execution_count": 162,
   "metadata": {},
   "outputs": [
    {
     "name": "stdout",
     "output_type": "stream",
     "text": [
      "the median trading volume during this year is 76286.0\n"
     ]
    }
   ],
   "source": [
    "# 7.(Optional) What was the median trading volume during this year. (Note: you may need to implement your own function for calculating the median.)\n",
    "\n",
    "traded_vol_ndx = 6\n",
    "traded_list = []\n",
    "median = None \n",
    "\n",
    "# get data\n",
    "data = data_afxx_2017['dataset_data'].get('data')\n",
    "\n",
    "if len(data) > 0:\n",
    "    for dataum in data:\n",
    "        traded_list.append(dataum[traded_vol_ndx])\n",
    "    traded_list.sort()\n",
    "    median = (traded_list[(len(traded_list)//2)] + traded_list[(len(traded_list)//2)-1])/2 if len(traded_list)%2 == 0 else traded_list[len(traded_list)//2]\n",
    "    print(f\"the median trading volume during this year is {median}\")\n",
    "else:\n",
    "    print(\"No data found\")"
   ]
  }
 ],
 "metadata": {
  "interpreter": {
   "hash": "4885f37acae9217c235118400878352aafa7b76e66df698a1f601374f86939a7"
  },
  "kernelspec": {
   "display_name": "Python 3 (ipykernel)",
   "language": "python",
   "name": "python3"
  },
  "language_info": {
   "codemirror_mode": {
    "name": "ipython",
    "version": 3
   },
   "file_extension": ".py",
   "mimetype": "text/x-python",
   "name": "python",
   "nbconvert_exporter": "python",
   "pygments_lexer": "ipython3",
   "version": "3.7.13"
  }
 },
 "nbformat": 4,
 "nbformat_minor": 4
}
